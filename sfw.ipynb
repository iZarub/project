{
 "cells": [
  {
   "cell_type": "code",
   "execution_count": 41,
   "metadata": {},
   "outputs": [],
   "source": [
    "import heapq\n",
    "import networkx as nx\n",
    "\n",
    "import numpy as np\n",
    "import scipy.sparse as sp\n",
    "\n",
    "from typing import Optional\n",
    "\n",
    "import matplotlib.pyplot as plt\n",
    "\n",
    "from tqdm import tqdm"
   ]
  },
  {
   "cell_type": "code",
   "execution_count": 44,
   "metadata": {},
   "outputs": [],
   "source": [
    "class PageRankSolution():\n",
    "    def __init__(\n",
    "            self, \n",
    "            dataset_file: Optional[str] = None\n",
    "    ) -> None:\n",
    "        self.dataset_file = dataset_file\n",
    "        self.tm = None\n",
    "        self.num_nodes = None\n",
    "\n",
    "    @staticmethod\n",
    "    def calculate_density_stats(\n",
    "        transition_matrix\n",
    "    ) -> None:\n",
    "        if not sp.isspmatrix_csr(transition_matrix):\n",
    "            transition_matrix = transition_matrix.tocsr()\n",
    "\n",
    "        non_zero_count = transition_matrix.nnz\n",
    "\n",
    "        row_indices, col_indices = transition_matrix.nonzero()\n",
    "\n",
    "        row_degrees = np.bincount(row_indices, minlength=transition_matrix.shape[0])\n",
    "\n",
    "        col_degrees = np.bincount(col_indices, minlength=transition_matrix.shape[1])\n",
    "\n",
    "        min_row_degree = row_degrees.min()\n",
    "        max_row_degree = row_degrees.max()\n",
    "        avg_row_degree = row_degrees.mean()\n",
    "\n",
    "        min_col_degree = col_degrees.min()\n",
    "        max_col_degree = col_degrees.max()\n",
    "        avg_col_degree = col_degrees.mean()\n",
    "\n",
    "        print(\"General non-zero element statistics:\")\n",
    "        print(f\"  Total number of non-zero elements: {non_zero_count}\")\n",
    "\n",
    "        print(\"Row degree statistics:\")\n",
    "        print(f\"  Minimum row degree: {min_row_degree}\")\n",
    "        print(f\"  Maximum row degree: {max_row_degree}\")\n",
    "        print(f\"  Average row degree: {avg_row_degree:.4f}\")\n",
    "\n",
    "        print(\"Column degree statistics:\")\n",
    "        print(f\"  Minimum column degree: {min_col_degree}\")\n",
    "        print(f\"  Maximum column degree: {max_col_degree}\")\n",
    "        print(f\"  Average column degree: {avg_col_degree:.4f}\")\n",
    "\n",
    "\n",
    "    def load_web_graph(\n",
    "            self, \n",
    "            amount_of_nodes: int = 1000, \n",
    "            amount_of_edges: int = 5\n",
    "    ):\n",
    "        if not self.dataset_file:\n",
    "            print(\"Web-graph dataset is not chosen, creating simulation\")\n",
    "            g = nx.powerlaw_cluster_graph(n=amount_of_nodes, m=amount_of_edges, p=0.1)\n",
    "            \n",
    "        else:\n",
    "            print(\"Using real web-graph\")\n",
    "            g = nx.read_edgelist(self.dataset_file, create_using=nx.DiGraph)\n",
    "\n",
    "        am = nx.adjacency_matrix(g)\n",
    "        row_sums = np.array(am.sum(axis=1)).flatten()\n",
    "        row_sums[row_sums == 0] = 1\n",
    "\n",
    "\n",
    "        self.num_nodes = g.number_of_nodes()\n",
    "        self.tm = sp.csc_matrix(am / row_sums[:, np.newaxis])\n",
    "\n",
    "        return self.tm, self.num_nodes\n",
    "\n",
    "\n",
    "    def create_A(\n",
    "        self, \n",
    "        P: Optional[sp.csr_matrix] = None,\n",
    "        num_nodes: Optional[int] = None\n",
    "    ):\n",
    "        if self.tm is None:\n",
    "            self.tm = P\n",
    "            self.num_nodes = num_nodes\n",
    "\n",
    "        self.A = sp.eye(self.num_nodes, format='csc') - self.tm.T\n",
    "        self.A_T = self.A.transpose().tocsc()\n",
    "\n",
    "        return self.A\n",
    "\n",
    "\n",
    "    def forward_grad(\n",
    "            self, \n",
    "            gamma,\n",
    "            x,\n",
    "            h_k,\n",
    "            i_plus,\n",
    "            i_minus\n",
    "    ):  \n",
    "        import time\n",
    "        \n",
    "        h_k_sparse = sp.csr_array(h_k).reshape(-1, 1)\n",
    "\n",
    "        Ah = self.A @ h_k_sparse\n",
    "        ATAh = self.A_T @ Ah\n",
    "        \n",
    "        ATAh = ATAh.toarray().reshape(-1)\n",
    "\n",
    "        max_term = np.zeros_like(x)\n",
    "        max_term[i_plus] = np.maximum(-x[i_plus] + h_k[i_plus], 0) - np.maximum(-x[i_plus], 0)\n",
    "        max_term[i_minus] = np.maximum(-x[i_minus] + h_k[i_minus], 0) - np.maximum(-x[i_minus], 0)\n",
    "        \n",
    "        return ATAh + gamma * max_term\n",
    "\n",
    "\n",
    "    def calculate_h(\n",
    "            self,\n",
    "            L1: float,\n",
    "            grad: list,\n",
    "            i_plus: int,\n",
    "            i_minus: int\n",
    "    ) -> list:\n",
    "        grad_diff = grad[i_plus] - grad[i_minus]\n",
    "\n",
    "        h_k = np.zeros(self.num_nodes)\n",
    "        h_k[i_plus] = -grad_diff / (4 * L1)\n",
    "        h_k[i_minus] = grad_diff / (4 * L1)\n",
    "        \n",
    "        return h_k\n",
    "\n",
    "\n",
    "    def nl1(\n",
    "            self, \n",
    "            gamma=0.01, \n",
    "            max_iter=10000\n",
    "    ) -> tuple[list, list]:\n",
    "        if self.A is None:\n",
    "            raise ValueError(\"I - P^T not loaded. Call create_A() first.\")\n",
    "        \n",
    "        loss = []\n",
    "        L1 = 1 + gamma\n",
    "\n",
    "        x = np.zeros(self.num_nodes)\n",
    "        x[0] = 1\n",
    "\n",
    "        Ax = self.A @ x\n",
    "        grad = self.A.T @ Ax + gamma * np.maximum(-x, 0)\n",
    "\n",
    "\n",
    "        with tqdm(total=max_iter, desc=\"Optimizing NL1\") as pbar:\n",
    "            for _ in range(max_iter):\n",
    "                i_plus = np.argmax(grad)   \n",
    "                i_minus = np.argmin(grad)\n",
    "\n",
    "                h_k = self.calculate_h(L1=L1, grad=grad, i_plus=i_plus, i_minus=i_minus)\n",
    "                \n",
    "                x += h_k\n",
    "\n",
    "                grad += self.forward_grad(gamma=gamma, x=x, h_k=h_k, i_plus=i_plus, i_minus=i_minus)\n",
    "\n",
    "                loss.append(np.linalg.norm(self.A @ x))\n",
    "\n",
    "                pbar.set_postfix({'loss': 1, 'i_minus': i_minus, 'i_plus': i_plus})\n",
    "                pbar.update(1)\n",
    "        \n",
    "        return x, loss"
   ]
  },
  {
   "cell_type": "code",
   "execution_count": 45,
   "metadata": {},
   "outputs": [
    {
     "name": "stdout",
     "output_type": "stream",
     "text": [
      "Using real web-graph\n"
     ]
    }
   ],
   "source": [
    "prk = PageRankSolution(dataset_file=\"web-Stanford.txt\")\n",
    "P, num_nodes = prk.load_web_graph()\n",
    "A = prk.create_A()"
   ]
  },
  {
   "cell_type": "code",
   "execution_count": 46,
   "metadata": {},
   "outputs": [
    {
     "name": "stderr",
     "output_type": "stream",
     "text": [
      "Optimizing NL1:   0%|          | 0/100000 [00:00<?, ?it/s]"
     ]
    },
    {
     "name": "stderr",
     "output_type": "stream",
     "text": [
      "Optimizing NL1: 100%|██████████| 100000/100000 [26:52<00:00, 62.03it/s, loss=1, i_minus=205630, i_plus=93580]\n"
     ]
    }
   ],
   "source": [
    "x, loss = prk.nl1(max_iter=100000, gamma=1)"
   ]
  },
  {
   "cell_type": "code",
   "execution_count": 52,
   "metadata": {},
   "outputs": [
    {
     "name": "stdout",
     "output_type": "stream",
     "text": [
      "0.0008866953377029343\n",
      "1.0000000000000013\n"
     ]
    },
    {
     "data": {
      "image/png": "[encoded data removed]",
      "text/plain": [
       "<Figure size 640x480 with 1 Axes>"
      ]
     },
     "metadata": {},
     "output_type": "display_data"
    }
   ],
   "source": [
    "plt.plot(loss)\n",
    "plt.yscale('log')\n",
    "plt.title(\"nx1\")\n",
    "plt.ylabel(\"$||Ax||_{2}$\")\n",
    "plt.xlabel(\"iter\")\n",
    "plt.grid()\n",
    "print(loss[-1])\n",
    "print(np.sum(x))"
   ]
  },
  {
   "cell_type": "code",
   "execution_count": 53,
   "metadata": {},
   "outputs": [
    {
     "name": "stderr",
     "output_type": "stream",
     "text": [
      "Optimizing NL1: 100%|██████████| 100000/100000 [26:12<00:00, 63.61it/s, error=1]\n"
     ]
    }
   ],
   "source": [
    "n = P.shape[0]\n",
    "I = np.ones(n) / n\n",
    "max_iterations = 100000\n",
    "\n",
    "errors_real = []\n",
    "with tqdm(total=max_iterations, desc=\"Optimizing NL1\") as pbar:\n",
    "    for _ in range(max_iterations):\n",
    "        I_old = I.copy()\n",
    "        I = P.T @ I\n",
    "        error = np.linalg.norm(I - I_old) \n",
    "        errors_real.append(error)\n",
    "        pbar.set_postfix({'error': 1})\n",
    "        pbar.update(1)\n",
    "\n"
   ]
  },
  {
   "cell_type": "code",
   "execution_count": 55,
   "metadata": {},
   "outputs": [
    {
     "name": "stdout",
     "output_type": "stream",
     "text": [
      "0.0009481771224720081\n"
     ]
    },
    {
     "data": {
      "image/png": "[encoded data removed]",
      "text/plain": [
       "<Figure size 640x480 with 1 Axes>"
      ]
     },
     "metadata": {},
     "output_type": "display_data"
    }
   ],
   "source": [
    "plt.plot(errors_real)\n",
    "plt.yscale('log')\n",
    "plt.title(\"nx1\")\n",
    "plt.ylabel(\"$||Ax||_{2}$\")\n",
    "plt.xlabel(\"iter\")\n",
    "plt.grid()\n",
    "print(errors_real[-1])"
   ]
  }
 ],
 "metadata": {
  "kernelspec": {
   "display_name": ".venv",
   "language": "python",
   "name": "python3"
  },
  "language_info": {
   "codemirror_mode": {
    "name": "ipython",
    "version": 3
   },
   "file_extension": ".py",
   "mimetype": "text/x-python",
   "name": "python",
   "nbconvert_exporter": "python",
   "pygments_lexer": "ipython3",
   "version": "3.10.12"
  }
 },
 "nbformat": 4,
 "nbformat_minor": 2
}
