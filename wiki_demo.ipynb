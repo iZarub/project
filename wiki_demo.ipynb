{
 "cells": [
  {
   "cell_type": "code",
   "execution_count": 1,
   "metadata": {},
   "outputs": [],
   "source": [
    "import networkx as nx\n",
    "\n",
    "import numpy as np\n",
    "import scipy.sparse as sp\n",
    "\n",
    "from typing import Optional\n",
    "\n",
    "import matplotlib.pyplot as plt\n",
    "\n",
    "from tqdm import tqdm"
   ]
  },
  {
   "cell_type": "code",
   "execution_count": 2,
   "metadata": {},
   "outputs": [],
   "source": [
    "class PageRankSolution():\n",
    "    def __init__(\n",
    "            self, \n",
    "            dataset_file: Optional[str] = None\n",
    "    ) -> None:\n",
    "        self.dataset_file = dataset_file\n",
    "        self.tm = None\n",
    "        self.num_nodes = None\n",
    "\n",
    "    @staticmethod\n",
    "    def calculate_density_stats(\n",
    "        transition_matrix\n",
    "    ) -> None:\n",
    "\n",
    "\n",
    "        non_zero_count = transition_matrix.nnz\n",
    "\n",
    "        row_indices, col_indices = transition_matrix.nonzero()\n",
    "\n",
    "        row_degrees = np.bincount(row_indices, minlength=transition_matrix.shape[0])\n",
    "\n",
    "        col_degrees = np.bincount(col_indices, minlength=transition_matrix.shape[1])\n",
    "\n",
    "        min_row_degree = row_degrees.min()\n",
    "        max_row_degree = row_degrees.max()\n",
    "        avg_row_degree = row_degrees.mean()\n",
    "\n",
    "        min_col_degree = col_degrees.min()\n",
    "        max_col_degree = col_degrees.max()\n",
    "        avg_col_degree = col_degrees.mean()\n",
    "\n",
    "        print(\"General non-zero element statistics:\")\n",
    "        print(f\"  Total number of non-zero elements: {non_zero_count}\")\n",
    "\n",
    "        print(\"Row degree statistics:\")\n",
    "        print(f\"  Minimum row degree: {min_row_degree}\")\n",
    "        print(f\"  Maximum row degree: {max_row_degree}\")\n",
    "        print(f\"  Average row degree: {avg_row_degree:.4f}\")\n",
    "\n",
    "        print(\"Column degree statistics:\")\n",
    "        print(f\"  Minimum column degree: {min_col_degree}\")\n",
    "        print(f\"  Maximum column degree: {max_col_degree}\")\n",
    "        print(f\"  Average column degree: {avg_col_degree:.4f}\")\n",
    "\n",
    "\n",
    "    def load_web_graph(\n",
    "            self, \n",
    "    ):\n",
    "\n",
    "        print(\"Using real web-graph\")\n",
    "        g = nx.read_edgelist(self.dataset_file, create_using=nx.DiGraph)\n",
    "\n",
    "        am = nx.adjacency_matrix(g)\n",
    "        row_sums = np.array(am.sum(axis=1)).flatten()\n",
    "        row_sums[row_sums == 0] = 1\n",
    "\n",
    "\n",
    "        self.num_nodes = g.number_of_nodes()\n",
    "        self.tm = am / row_sums[:, np.newaxis]\n",
    "\n",
    "        return self.tm, self.num_nodes"
   ]
  },
  {
   "cell_type": "code",
   "execution_count": 22,
   "metadata": {},
   "outputs": [],
   "source": [
    "prk_demo = PageRankSolution(dataset_file=\"wikipedia_graph.txt\")\n",
    "# prk_demo = PageRankSolution(dataset_file=\"web-Stanford.txt\")"
   ]
  },
  {
   "cell_type": "code",
   "execution_count": 23,
   "metadata": {},
   "outputs": [
    {
     "name": "stdout",
     "output_type": "stream",
     "text": [
      "Using real web-graph\n",
      "10000\n"
     ]
    }
   ],
   "source": [
    "P, num_nodes = prk_demo.load_web_graph()\n",
    "print(num_nodes)\n"
   ]
  },
  {
   "cell_type": "code",
   "execution_count": 24,
   "metadata": {},
   "outputs": [
    {
     "name": "stdout",
     "output_type": "stream",
     "text": [
      "General non-zero element statistics:\n",
      "  Total number of non-zero elements: 12823\n",
      "Row degree statistics:\n",
      "  Minimum row degree: 0\n",
      "  Maximum row degree: 1425\n",
      "  Average row degree: 1.2823\n",
      "Column degree statistics:\n",
      "  Minimum column degree: 0\n",
      "  Maximum column degree: 33\n",
      "  Average column degree: 1.2823\n"
     ]
    }
   ],
   "source": [
    "prk_demo.calculate_density_stats(P)"
   ]
  },
  {
   "cell_type": "code",
   "execution_count": 8,
   "metadata": {},
   "outputs": [],
   "source": [
    "eigenvalues, eigenvectors = np.linalg.eig(P.toarray())\n",
    "\n",
    "stationary = np.real(eigenvectors[:, np.isclose(eigenvalues, 1)].flatten())\n",
    "stationary = stationary / stationary.sum()"
   ]
  },
  {
   "cell_type": "code",
   "execution_count": 25,
   "metadata": {},
   "outputs": [
    {
     "name": "stderr",
     "output_type": "stream",
     "text": [
      "Optimizing: 100%|██████████| 100/100 [00:00<00:00, 869.45it/s, error=1]\n"
     ]
    }
   ],
   "source": [
    "n = P.shape[0]\n",
    "I = np.ones(n) / n\n",
    "max_iterations = 100\n",
    "\n",
    "errors_real = []\n",
    "with tqdm(total=max_iterations, desc=\"Optimizing\") as pbar:\n",
    "    for _ in range(max_iterations):\n",
    "        I_old = I.copy()\n",
    "        I = P.T @ I\n",
    "        error = np.linalg.norm(I - I_old) \n",
    "        errors_real.append(error)\n",
    "        pbar.set_postfix({'error': 1})\n",
    "        pbar.update(1)"
   ]
  },
  {
   "cell_type": "code",
   "execution_count": 27,
   "metadata": {},
   "outputs": [
    {
     "name": "stdout",
     "output_type": "stream",
     "text": [
      "0.0\n"
     ]
    },
    {
     "data": {
      "image/png": "[encoded data removed]",
      "text/plain": [
       "<Figure size 640x480 with 1 Axes>"
      ]
     },
     "metadata": {},
     "output_type": "display_data"
    }
   ],
   "source": [
    "plt.plot(errors_real)\n",
    "plt.yscale('log')\n",
    "plt.title(\"wikipedia_page_rank\")\n",
    "plt.ylabel(\"$||Ax||_{2}$\")\n",
    "plt.xlabel(\"iter\")\n",
    "plt.grid()"
   ]
  },
  {
   "cell_type": "code",
   "execution_count": null,
   "metadata": {},
   "outputs": [],
   "source": []
  }
 ],
 "metadata": {
  "kernelspec": {
   "display_name": ".venv",
   "language": "python",
   "name": "python3"
  },
  "language_info": {
   "codemirror_mode": {
    "name": "ipython",
    "version": 3
   },
   "file_extension": ".py",
   "mimetype": "text/x-python",
   "name": "python",
   "nbconvert_exporter": "python",
   "pygments_lexer": "ipython3",
   "version": "3.10.12"
  }
 },
 "nbformat": 4,
 "nbformat_minor": 2
}
